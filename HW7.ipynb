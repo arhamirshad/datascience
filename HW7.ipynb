{
 "cells": [
  {
   "cell_type": "markdown",
   "metadata": {},
   "source": [
    "# Introduction to Data Science – Homework 7 - March 24, 2023 \n",
    "*COMP 5360 / MATH 4100, University of Utah, http://datasciencecourse.net/*\n",
    "\n",
    "Due: Friday, March 24, 11:59pm.\n",
    "\n",
    "In this homework, you will use classification methods to classify handwritten digits (Part 1) and predict the popularity of online news (Part 2). We hope these exercises will give you an idea of the broad usage of classification methods. "
   ]
  },
  {
   "cell_type": "markdown",
   "metadata": {},
   "source": [
    "## Your Data\n",
    "First Name: Arham\n",
    "<br>\n",
    "Last Name: Irshad\n",
    "<br>\n",
    "E-mail: u1298267@umail.utah.edu\n",
    "<br>\n",
    "UID: u1298267\n",
    "<br>"
   ]
  },
  {
   "cell_type": "code",
   "execution_count": 2,
   "metadata": {},
   "outputs": [],
   "source": [
    "# imports and setup \n",
    "\n",
    "import pandas as pd\n",
    "import numpy as np\n",
    "\n",
    "from sklearn import tree, svm, metrics\n",
    "from sklearn.neighbors import KNeighborsClassifier\n",
    "from sklearn.model_selection import train_test_split, cross_val_score\n",
    "from sklearn.datasets import load_digits\n",
    "from sklearn.preprocessing import scale\n",
    "from sklearn.datasets import make_moons\n",
    "from sklearn import tree\n",
    "\n",
    "import matplotlib.pyplot as plt\n",
    "%matplotlib inline\n",
    "plt.rcParams['figure.figsize'] = (10, 6)\n",
    "plt.style.use('ggplot')"
   ]
  },
  {
   "cell_type": "markdown",
   "metadata": {},
   "source": [
    "## Part1: MNIST handwritten digits\n",
    "\n",
    "The MNIST handwritten digit dataset consists of images of handwritten digits, together with labels indicating which digit is in each image. You will see that images are just matrices with scalar values, and that we can apply the classification algorithms we studied on them.\n",
    "\n",
    "Because both the features and the labels are present in this dataset (and labels for large datasets are generally difficult/expensive to obtain), this dataset is frequently used as a benchmark to compare various classification methods. For example, [this webpage](http://yann.lecun.com/exdb/mnist/) gives a comparison of a variety of different classification methods on MNIST (Note that the tests on this website are for higher resolution images than we'll use.) \n",
    "\n",
    "In this problem, we'll use scikit-learn to compare classification methods on the MNIST dataset. \n",
    "\n",
    "There are several versions of the MNIST dataset. We'll use the one that is built-into scikit-learn, described [here](http://scikit-learn.org/stable/modules/generated/sklearn.datasets.load_digits.html). \n",
    "\n",
    "1) Classes: 10 (one for each digit)\n",
    "2) Samples total: 1797\n",
    "3) Samples per class: $\\approx$180\n",
    "4) Dimensionality: 64 (8 pixels by 8 pixels)\n",
    "5) Features: integers 0-16 (grayscale value; 0 is white, 16 is black)\n",
    "\n",
    "Here are some examples of the images. Note that the digits have been size-normalized and centered in a fixed-size ($8\\times8$ pixels) image.\n",
    "\n",
    "<img src=\"http://scikit-learn.org/stable/_images/sphx_glr_plot_digits_classification_001.png\" width=\"500\">"
   ]
  },
  {
   "cell_type": "markdown",
   "metadata": {},
   "source": [
    "Note that we will scale the data before running them through our algorithms. You can read details about scaling and why it's important [here](http://scikit-learn.org/stable/modules/preprocessing.html#standardization-or-mean-removal-and-variance-scaling)."
   ]
  },
  {
   "cell_type": "code",
   "execution_count": 4,
   "metadata": {},
   "outputs": [
    {
     "name": "stdout",
     "output_type": "stream",
     "text": [
      "<class 'numpy.ndarray'>\n",
      "n_digits: 10, n_samples 1797, n_features 64\n"
     ]
    }
   ],
   "source": [
    "digits = load_digits()\n",
    "#X = digits.data\n",
    "X = scale(digits.data)\n",
    "y = digits.target\n",
    "print(type(X))\n",
    "\n",
    "n_samples, n_features = X.shape\n",
    "n_digits = len(np.unique(digits.target))\n",
    "print(\"n_digits: %d, n_samples %d, n_features %d\" % (n_digits, n_samples, n_features))\n"
   ]
  },
  {
   "cell_type": "code",
   "execution_count": 5,
   "metadata": {},
   "outputs": [
    {
     "name": "stdout",
     "output_type": "stream",
     "text": [
      "===\n",
      "The digit\n",
      "0\n",
      "===\n",
      "The raw data\n",
      "[[ 0.  0.  5. 13.  9.  1.  0.  0.]\n",
      " [ 0.  0. 13. 15. 10. 15.  5.  0.]\n",
      " [ 0.  3. 15.  2.  0. 11.  8.  0.]\n",
      " [ 0.  4. 12.  0.  0.  8.  8.  0.]\n",
      " [ 0.  5.  8.  0.  0.  9.  8.  0.]\n",
      " [ 0.  4. 11.  0.  1. 12.  7.  0.]\n",
      " [ 0.  2. 14.  5. 10. 12.  0.  0.]\n",
      " [ 0.  0.  6. 13. 10.  0.  0.  0.]]\n",
      "===\n",
      "The scaled data\n",
      "[ 0.         -0.33501649 -0.04308102  0.27407152 -0.66447751 -0.84412939\n",
      " -0.40972392 -0.12502292 -0.05907756 -0.62400926  0.4829745   0.75962245\n",
      " -0.05842586  1.12772113  0.87958306 -0.13043338 -0.04462507  0.11144272\n",
      "  0.89588044 -0.86066632 -1.14964846  0.51547187  1.90596347 -0.11422184\n",
      " -0.03337973  0.48648928  0.46988512 -1.49990136 -1.61406277  0.07639777\n",
      "  1.54181413 -0.04723238  0.          0.76465553  0.05263019 -1.44763006\n",
      " -1.73666443  0.04361588  1.43955804  0.         -0.06134367  0.8105536\n",
      "  0.63011714 -1.12245711 -1.06623158  0.66096475  0.81845076 -0.08874162\n",
      " -0.03543326  0.74211893  1.15065212 -0.86867056  0.11012973  0.53761116\n",
      " -0.75743581 -0.20978513 -0.02359646 -0.29908135  0.08671869  0.20829258\n",
      " -0.36677122 -1.14664746 -0.5056698  -0.19600752]\n"
     ]
    }
   ],
   "source": [
    "# this is what one digit (a zero) looks like\n",
    "\n",
    "print(\"===\\nThe digit\")\n",
    "print(digits.target[0])\n",
    "\n",
    "print(\"===\\nThe raw data\")\n",
    "print(digits.images[0])\n",
    "\n",
    "print(\"===\\nThe scaled data\")\n",
    "print(X[0])"
   ]
  },
  {
   "cell_type": "code",
   "execution_count": 6,
   "metadata": {},
   "outputs": [
    {
     "data": {
      "image/png": "[encoded data removed]",
      "text/plain": [
       "<Figure size 720x720 with 25 Axes>"
      ]
     },
     "metadata": {},
     "output_type": "display_data"
    }
   ],
   "source": [
    "# plot a few of the images\n",
    "\n",
    "plt.figure(figsize= (10, 10))    \n",
    "for ii in np.arange(25):\n",
    "    plt.subplot(5, 5, ii+1)\n",
    "    plt.imshow(np.reshape(digits.images[ii,:],(8,8)), cmap='Greys',interpolation='nearest')\n",
    "    plt.axis('off')\n",
    "plt.show()\n"
   ]
  },
  {
   "cell_type": "markdown",
   "metadata": {},
   "source": [
    "You might find [this webpage](http://scikit-learn.org/stable/tutorial/basic/tutorial.html) to be generally helpful for this exercise. "
   ]
  },
  {
   "cell_type": "markdown",
   "metadata": {},
   "source": [
    "### Task 1.1: Classification with Support Vector Machines (SVM)\n",
    "\n",
    "1. Split the data into a training and test set using the command \n",
    "```\n",
    "train_test_split(X, y, random_state=1, test_size=0.8)\n",
    "```\n",
    "    1. Use SVM with an `rbf` kernel and parameter `C=100` to build a classifier using the *training dataset*.\n",
    "    2. Using the *test dataset*, evaluate the accuracy of the model. Again using the *test dataset*, compute the confusion matrix. What is the most common mistake that the classifier makes? **Note: this corresponds to the largest off-diagonal entry of the confusion matrix.**\n",
    "    3. Print all of these misclassified digits as images. \n",
    "    4. Using the 'cross_val_score' function, evaluate the accuracy of the SVM for 100 different values of the parameter C between 1 and 100. What is the best value? \n",
    "    5. Try to train and test the algorithm on the raw (non-scaled) data. Report the accuracy score and confusion matrix for different settings of `gamma`. You may use whatever C value you determined worked well on the scaled data in \"part 4\" .What is your observation of the results on the raw data?"
   ]
  },
  {
   "cell_type": "code",
   "execution_count": null,
   "metadata": {},
   "outputs": [
    {
     "name": "stdout",
     "output_type": "stream",
     "text": [
      "SVC(C=100)\n",
      "Accuracy =  0.569933156766301\n",
      "Confusion Matrix:\n",
      "[[12384  3587]\n",
      " [10053  5692]]\n"
     ]
    }
   ],
   "source": [
    "# your solution goes here\n",
    "\n",
    "#a\n",
    "\n",
    "X_train, X_test, y_train, y_test = train_test_split(X, y, random_state=1, test_size=0.8)\n",
    "\n",
    "\n",
    "\n",
    "model = svm.SVC(kernel='rbf', C=100)\n",
    "\n",
    "#b\n",
    "model.fit(X_train, y_train)    \n",
    "print(model)\n",
    "\n",
    "y_pred = model.predict(X_test)\n",
    "print('Accuracy = ', metrics.accuracy_score(y_true = y_test, y_pred = y_pred))\n",
    "print('Confusion Matrix:')\n",
    "print(metrics.confusion_matrix(y_true = y_test, y_pred = y_pred))\n",
    "\n",
    "#d\n",
    "C_values = np.linspace(1, 100, num=100)\n",
    "Accuracy = [0]*len(C_values)\n",
    "for i,C in enumerate(C_values): \n",
    "    model2 = svm.SVC(kernel='rbf', C = C,gamma='scale')\n",
    "    model2.fit(X_train, y_train)  \n",
    "    y_pred = model2.predict(X_test)\n",
    "    scores = cross_val_score(estimator = model2, X = X_test, y = y_pred, cv=5, scoring='accuracy')  \n",
    "    Accuracy[i]  = scores.mean()\n",
    "plt.plot(C_values,Accuracy)\n",
    "plt.show()\n",
    "#e\n",
    "X2 = digits.data\n",
    "y2 = digits.target\n",
    "X_train, X_test, y_train, y_test = train_test_split(X2, y2, random_state=1, test_size=0.8)\n",
    "model = svm.SVC(kernel='rbf', C=3)\n",
    "model.fit(X_train, y_train)    \n",
    "print(model)\n",
    "\n",
    "y_pred = model.predict(X_test)\n",
    "print('Accuracy = ', metrics.accuracy_score(y_true = y_test, y_pred = y_pred))\n",
    "print('Confusion Matrix:')\n",
    "print(metrics.confusion_matrix(y_true = y_test, y_pred = y_pred))"
   ]
  },
  {
   "cell_type": "markdown",
   "metadata": {},
   "source": [
    "**Your Interpretation**: TODO"
   ]
  },
  {
   "cell_type": "markdown",
   "metadata": {},
   "source": [
    "### Task 1.2: Prediction with k-nearest neighbors\n",
    "`Repeat` task 1.1 using k-nearest neighbors (k-NN). In part 2, use k=10. In part 5, find the best value of k. \n",
    "Work on every single question except the last one (You don't need to handle the non-scaled data here) in task 1.1 "
   ]
  },
  {
   "cell_type": "code",
   "execution_count": null,
   "metadata": {},
   "outputs": [],
   "source": [
    "# your solution goes here\n",
    "#a\n",
    "X = scale(digits.data)\n",
    "y = digits.target\n",
    "X_train, X_test, y_train, y_test = train_test_split(X, y, random_state=1, test_size=0.8)\n",
    "# Here we initialize the model. The key parameter is the number of neighbors (k) to consider. \n",
    "model = KNeighborsClassifier(n_neighbors = 10)\n",
    "# Here we train the model with the data (X) and the labels (y)\n",
    "#b\n",
    "model.fit(X_train, y_train)\n",
    "y_pred = model.predict(X_test)\n",
    "print('Confusion Matrix:')\n",
    "print(metrics.confusion_matrix(y_true = y_test, y_pred = y_pred))\n",
    "#d\n",
    "K_values = np.linspace(1, 100, num=100)\n",
    "Accuracy = [0]*len(K_values)\n",
    "for i,K in enumerate(K_values): \n",
    "    model2 = KNeighborsClassifier(n_neighbors = int(K))\n",
    "    model2.fit(X_train, y_train)  \n",
    "    y_pred = model2.predict(X_test)\n",
    "    scores = cross_val_score(estimator = model2, X = X_test, y = y_pred, cv=5, scoring='accuracy')  \n",
    "    Accuracy[i]  = scores.mean()\n",
    "plt.plot(K_values,Accuracy)\n",
    "plt.show()\n",
    "#e\n",
    "X2 = digits.data\n",
    "y2 = digits.target\n",
    "X_train, X_test, y_train, y_test = train_test_split(X2, y2, random_state=1, test_size=0.8)\n",
    "model3 = KNeighborsClassifier(n_neighbors = 10)\n",
    "model3.fit(X_train, y_train)    \n",
    "print(model)\n",
    "\n",
    "y_pred = model.predict(X_test)\n",
    "print('Accuracy = ', metrics.accuracy_score(y_true = y_test, y_pred = y_pred))\n",
    "print('Confusion Matrix:')\n",
    "print(metrics.confusion_matrix(y_true = y_test, y_pred = y_pred))"
   ]
  },
  {
   "cell_type": "markdown",
   "metadata": {},
   "source": [
    "**Your Interpretation**: TODO"
   ]
  },
  {
   "cell_type": "markdown",
   "metadata": {},
   "source": [
    "# Part 2: Popularity of online news\n",
    "\n",
    "For this problem, you will use classification tools to predict the popularity of online news based on attributes such as the length of the article, the number of images, the day of the week that the article was published, and some variables related to the content of the article. You can learn details about the datasetat the\n",
    "[UCI Machine Learning Repository](https://archive.ics.uci.edu/ml/datasets/Online+News+Popularity). \n",
    "This dataset was first used in the following conference paper: \n",
    "\n",
    "K. Fernandes, P. Vinagre and P. Cortez. A Proactive Intelligent Decision Support System for Predicting the Popularity of Online News. *Proceedings of the 17th EPIA 2015 - Portuguese Conference on Artificial Intelligence* (2015).\n",
    "\n",
    "The dataset contains variables describing 39,644 articles published between January 7, 2013 and Januyary 7, 2015 on the news website, [Mashable](http://mashable.com/). \n",
    "There are 61 variables associated with each article. Of these, 58 are *predictor* variables, 2 are variables that we will not use (url and timedelta), and finally the number of shares of each article. The number of shares is what we will use to define whether or not the article was *popular*, which is what we will try to predict. You should read about the predictor variables in the file *OnlineNewsPopularity.names*. Further details about the collection and processing of the articles can be found in the conference paper. \n",
    "\n",
    "\n",
    "### Task 2.1 Import the data \n",
    "* Use the pandas.read_csv() function to import the dataset. Then, **print** shape of the data and first few lines of data.\n",
    "* To use [scikit-learn](http://scikit-learn.org), we'll need to save the data as a numpy array. Use the *DataFrame.values* command to export the predictor variables as a numpy array called *X* this array should not include our target variable (the number of shares). We don't need the url and timedelta, so let's drop these columns. \n",
    "* Export the number of shares as a separate numpy array, called *shares*. We'll define an article to be popular if it received more shares than the median number of shares. Create a binary numpy array, *y*, which indicates whether or not each article is popular.\n",
    "* Print *y* array"
   ]
  },
  {
   "cell_type": "code",
   "execution_count": 3,
   "metadata": {},
   "outputs": [],
   "source": [
    "# your solution goes here\n",
    "df = pd.read_table('OnlineNewsPopularity.csv',delimiter =\", \",engine='python')\n",
    "X = df.drop(['url','timedelta','shares'],axis = 'columns')\n",
    "\n",
    "X = X.to_numpy()\n",
    "shares = df['shares'].to_numpy()\n",
    "y = [0]*len(shares)\n",
    "for i in range(len(shares)):\n",
    "    if shares[i] > np.median(shares):\n",
    "        y[i] = 1\n",
    "\n",
    "        \n",
    "        "
   ]
  },
  {
   "cell_type": "markdown",
   "metadata": {},
   "source": [
    "### Task 2.2 Exploratory data analysis \n",
    "\n",
    "First check to see if the values are reasonable. What are the min, median, and maximum number of shares? "
   ]
  },
  {
   "cell_type": "code",
   "execution_count": 4,
   "metadata": {},
   "outputs": [
    {
     "name": "stdout",
     "output_type": "stream",
     "text": [
      "1 843300 1400.0\n"
     ]
    }
   ],
   "source": [
    "# your solution goes here\n",
    "minval = np.min(shares)\n",
    "maxval = np.max(shares)\n",
    "med = np.median(shares)\n",
    "print(minval,maxval,med)"
   ]
  },
  {
   "cell_type": "markdown",
   "metadata": {},
   "source": [
    "### Task 2.3 Classification using k-NN\n",
    "\n",
    "Develop a k-NN classification model for the data. Use cross validation to choose the best value of k. What is the best accuracy you can obtain on the test data? \n",
    "Plot graph of accuracy with various values of k to show your result."
   ]
  },
  {
   "cell_type": "code",
   "execution_count": 9,
   "metadata": {},
   "outputs": [
    {
     "data": {
      "image/png": "[encoded data removed]",
      "text/plain": [
       "<Figure size 720x432 with 1 Axes>"
      ]
     },
     "metadata": {},
     "output_type": "display_data"
    }
   ],
   "source": [
    "# your solution goes here\n",
    "\n",
    "K_values = np.linspace(1, 10, num=10)\n",
    "Accuracy = [0]*len(K_values)\n",
    "for i,K in enumerate(K_values): \n",
    "    modelk = KNeighborsClassifier(n_neighbors = int(K))\n",
    "    modelk.fit(X, y)  \n",
    "    y_pred = modelk.predict(X)\n",
    "    scores = cross_val_score(estimator = modelk, X = X, y = y_pred, cv=5, scoring='accuracy')  \n",
    "    Accuracy[i]  = scores.mean()\n",
    "plt.plot(K_values,Accuracy)\n",
    "plt.show()\n"
   ]
  },
  {
   "cell_type": "markdown",
   "metadata": {},
   "source": [
    "**Interpretation:** TODO"
   ]
  },
  {
   "cell_type": "markdown",
   "metadata": {},
   "source": [
    "### Task 2.4 Classification using SVM\n",
    "\n",
    "Develop a support vector machine classification model for the data.Show the results of cross-validation along with best parameter at the end.\n",
    "\n",
    "\n",
    "*Hint:* SVM is more computationally expensive, so you might want to start by using only a fraction of the data, say 4,500 articles. It takes multiple minutes to run on the whole dataset."
   ]
  },
  {
   "cell_type": "code",
   "execution_count": null,
   "metadata": {},
   "outputs": [],
   "source": [
    "# your solution goes here\n",
    "C_values = np.linspace(1, 100, num=100)\n",
    "Accuracy = [0]*len(C_values)\n",
    "for i,C in enumerate(C_values): \n",
    "    model2 = svm.SVC(kernel='rbf', C = C,gamma='scale')\n",
    "    model2.fit(X, y)  \n",
    "    y_pred = model2.predict(X)\n",
    "    scores = cross_val_score(estimator = model2, X = X, y = y_pred, cv=5, scoring='accuracy')  \n",
    "    Accuracy[i]  = scores.mean()\n",
    "plt.plot(C_values,Accuracy)\n",
    "plt.show()"
   ]
  },
  {
   "cell_type": "markdown",
   "metadata": {},
   "source": [
    "### Task 2.5 Classification using decision trees\n",
    "\n",
    "Develop a decision tree classification model for the data. Use cross validation to choose good values of the max tree depth (*max_depth*) and minimum samples split (*min_samples_split*). \n",
    "Show the results of cross-validation along with best parameter at the end.\n",
    "We don't need a plot here, we only need cross validation output and the optimal setting of parameters."
   ]
  },
  {
   "cell_type": "code",
   "execution_count": 13,
   "metadata": {},
   "outputs": [
    {
     "name": "stdout",
     "output_type": "stream",
     "text": [
      "Accuracy on training data=  0.6256306760847629\n",
      "Accuracy on training data=  0.6313067608476287\n",
      "Accuracy on training data=  0.6347124117053481\n",
      "Accuracy on training data=  0.6536326942482341\n",
      "Accuracy on training data=  0.6733097880928355\n",
      "Accuracy on training data=  0.7004288597376388\n",
      "Accuracy on training data=  0.7209889001009082\n",
      "Accuracy on training data=  0.7440716448032291\n",
      "Accuracy on training data=  0.7685418768920282\n",
      "Accuracy on training data=  0.7976791120080726\n",
      "Accuracy on training data=  0.8244197780020182\n",
      "Accuracy on training data=  0.8466195761856711\n",
      "Accuracy on training data=  0.858728557013118\n",
      "Accuracy on training data=  0.8686932391523713\n",
      "Accuracy on training data=  0.8727295660948536\n",
      "Accuracy on training data=  0.8772704339051464\n",
      "Accuracy on training data=  0.8756306760847629\n",
      "Accuracy on training data=  0.8744954591321897\n"
     ]
    }
   ],
   "source": [
    "# your solution goes here\n",
    "X_train, X_test, y_train, y_test = train_test_split(X, y, random_state=1, test_size=0.8)\n",
    "\n",
    "# fit the tree with the traing data\n",
    "for i in range(2,20):\n",
    "    decisionTree = tree.DecisionTreeClassifier(max_depth = i, min_samples_split=i).fit(X_train, y_train)\n",
    "    y_pred_train = decisionTree.predict(X_train)\n",
    "    print('Accuracy on training data= ', metrics.accuracy_score(y_true = y_train, y_pred = y_pred_train))\n",
    "    y_pred = decisionTree.predict(X_test)\n",
    "    print('Accuracy on test data= ', metrics.accuracy_score(y_true = y_test, y_pred = y_pred))\n",
    "    renderTree(decisionTree, all_features)\n",
    "#optimal parameter is i = 17"
   ]
  },
  {
   "cell_type": "markdown",
   "metadata": {},
   "source": [
    "### Task 2.6 Describe your findings\n",
    "1. Which method (k-NN, SVM, Decision Tree) worked best?\n",
    "    1. How did different parameters influence the accuracy?\n",
    "    2.  Which model is easiest do interpret?\n",
    "    3. How would you interpret your results?\n"
   ]
  },
  {
   "cell_type": "markdown",
   "metadata": {},
   "source": [
    "**Your Solution:** A. They changed with the method. Usually a few iterations were required to see the best informaiton. B. Decision tree. "
   ]
  }
 ],
 "metadata": {
  "anaconda-cloud": {},
  "kernelspec": {
   "display_name": "Python 3",
   "language": "python",
   "name": "python3"
  },
  "language_info": {
   "codemirror_mode": {
    "name": "ipython",
    "version": 3
   },
   "file_extension": ".py",
   "mimetype": "text/x-python",
   "name": "python",
   "nbconvert_exporter": "python",
   "pygments_lexer": "ipython3",
   "version": "3.8.3"
  }
 },
 "nbformat": 4,
 "nbformat_minor": 4
}
